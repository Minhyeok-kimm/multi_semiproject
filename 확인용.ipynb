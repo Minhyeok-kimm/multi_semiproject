{
 "cells": [
  {
   "cell_type": "code",
   "execution_count": 1,
   "metadata": {},
   "outputs": [],
   "source": [
    "import pandas as pd\n",
    "import numpy as np"
   ]
  },
  {
   "cell_type": "code",
   "execution_count": 5,
   "metadata": {},
   "outputs": [],
   "source": [
    "df201806 = pd.read_csv('data/하수관로_수위_현황_2018/하수관로_수위_현황_201806.csv',\n",
    "                       names=['수위계번호', '구분코드', '구분명', '측정일자', '측정일자_del', '측정수위', '통신상태'], index_col=False)"
   ]
  },
  {
   "cell_type": "code",
   "execution_count": 6,
   "metadata": {},
   "outputs": [
    {
     "data": {
      "text/html": [
       "<div>\n",
       "<style scoped>\n",
       "    .dataframe tbody tr th:only-of-type {\n",
       "        vertical-align: middle;\n",
       "    }\n",
       "\n",
       "    .dataframe tbody tr th {\n",
       "        vertical-align: top;\n",
       "    }\n",
       "\n",
       "    .dataframe thead th {\n",
       "        text-align: right;\n",
       "    }\n",
       "</style>\n",
       "<table border=\"1\" class=\"dataframe\">\n",
       "  <thead>\n",
       "    <tr style=\"text-align: right;\">\n",
       "      <th></th>\n",
       "      <th>수위계번호</th>\n",
       "      <th>구분코드</th>\n",
       "      <th>구분명</th>\n",
       "      <th>측정일자</th>\n",
       "      <th>측정수위</th>\n",
       "      <th>통신상태</th>\n",
       "      <th>측정일</th>\n",
       "    </tr>\n",
       "  </thead>\n",
       "  <tbody>\n",
       "    <tr>\n",
       "      <th>0</th>\n",
       "      <td>02-0001</td>\n",
       "      <td>2</td>\n",
       "      <td>중</td>\n",
       "      <td>2018-06-01</td>\n",
       "      <td>0.06</td>\n",
       "      <td>통신양호</td>\n",
       "      <td>2018-06-01</td>\n",
       "    </tr>\n",
       "    <tr>\n",
       "      <th>1</th>\n",
       "      <td>03-0001</td>\n",
       "      <td>3</td>\n",
       "      <td>용산</td>\n",
       "      <td>2018-06-01</td>\n",
       "      <td>0.72</td>\n",
       "      <td>통신양호</td>\n",
       "      <td>2018-06-01</td>\n",
       "    </tr>\n",
       "    <tr>\n",
       "      <th>2</th>\n",
       "      <td>04-0001</td>\n",
       "      <td>4</td>\n",
       "      <td>성동</td>\n",
       "      <td>2018-06-01</td>\n",
       "      <td>0.27</td>\n",
       "      <td>통신양호</td>\n",
       "      <td>2018-06-01</td>\n",
       "    </tr>\n",
       "    <tr>\n",
       "      <th>3</th>\n",
       "      <td>04-0002</td>\n",
       "      <td>4</td>\n",
       "      <td>성동</td>\n",
       "      <td>2018-06-01</td>\n",
       "      <td>0.23</td>\n",
       "      <td>통신양호</td>\n",
       "      <td>2018-06-01</td>\n",
       "    </tr>\n",
       "    <tr>\n",
       "      <th>4</th>\n",
       "      <td>04-0003</td>\n",
       "      <td>4</td>\n",
       "      <td>성동</td>\n",
       "      <td>2018-06-01</td>\n",
       "      <td>0.13</td>\n",
       "      <td>통신양호</td>\n",
       "      <td>2018-06-01</td>\n",
       "    </tr>\n",
       "  </tbody>\n",
       "</table>\n",
       "</div>"
      ],
      "text/plain": [
       "     수위계번호  구분코드 구분명       측정일자  측정수위  통신상태         측정일\n",
       "0  02-0001     2   중 2018-06-01  0.06  통신양호  2018-06-01\n",
       "1  03-0001     3  용산 2018-06-01  0.72  통신양호  2018-06-01\n",
       "2  04-0001     4  성동 2018-06-01  0.27  통신양호  2018-06-01\n",
       "3  04-0002     4  성동 2018-06-01  0.23  통신양호  2018-06-01\n",
       "4  04-0003     4  성동 2018-06-01  0.13  통신양호  2018-06-01"
      ]
     },
     "execution_count": 6,
     "metadata": {},
     "output_type": "execute_result"
    }
   ],
   "source": [
    "# 측정일자 1개로 변경 함수\n",
    "def del_time(data):\n",
    "    del data['측정일자_del']\n",
    "    return data\n",
    "\n",
    "# 측정일자 날짜데이터로 변경 함수\n",
    "def time_change(data):\n",
    "    data['측정일자'] = pd.to_datetime(data['측정일자'], format='%d-%b-%y %H:%M:%S')\n",
    "    return data\n",
    "\n",
    "# 측정일자 추출\n",
    "def day_add(data):\n",
    "    data['측정일'] = data['측정일자'].dt.strftime('%Y-%m-%d')\n",
    "\n",
    "df201806 = del_time(df201806)\n",
    "df201806 = time_change(df201806)\n",
    "day_add(df201806)\n",
    "\n",
    "df201806.head()"
   ]
  },
  {
   "cell_type": "code",
   "execution_count": 9,
   "metadata": {},
   "outputs": [
    {
     "data": {
      "text/html": [
       "<div>\n",
       "<style scoped>\n",
       "    .dataframe tbody tr th:only-of-type {\n",
       "        vertical-align: middle;\n",
       "    }\n",
       "\n",
       "    .dataframe tbody tr th {\n",
       "        vertical-align: top;\n",
       "    }\n",
       "\n",
       "    .dataframe thead th {\n",
       "        text-align: right;\n",
       "    }\n",
       "</style>\n",
       "<table border=\"1\" class=\"dataframe\">\n",
       "  <thead>\n",
       "    <tr style=\"text-align: right;\">\n",
       "      <th></th>\n",
       "      <th>수위계번호</th>\n",
       "      <th>구분코드</th>\n",
       "      <th>구분명</th>\n",
       "      <th>측정일자</th>\n",
       "      <th>측정수위</th>\n",
       "      <th>통신상태</th>\n",
       "      <th>측정일</th>\n",
       "    </tr>\n",
       "  </thead>\n",
       "  <tbody>\n",
       "  </tbody>\n",
       "</table>\n",
       "</div>"
      ],
      "text/plain": [
       "Empty DataFrame\n",
       "Columns: [수위계번호, 구분코드, 구분명, 측정일자, 측정수위, 통신상태, 측정일]\n",
       "Index: []"
      ]
     },
     "execution_count": 9,
     "metadata": {},
     "output_type": "execute_result"
    }
   ],
   "source": [
    "df201806.loc[(df201806['구분명'] == '광진') & (df201806['측정일'] == '2018-06-17')]"
   ]
  },
  {
   "cell_type": "code",
   "execution_count": null,
   "metadata": {},
   "outputs": [],
   "source": []
  }
 ],
 "metadata": {
  "kernelspec": {
   "display_name": "Python 3",
   "language": "python",
   "name": "python3"
  },
  "language_info": {
   "codemirror_mode": {
    "name": "ipython",
    "version": 3
   },
   "file_extension": ".py",
   "mimetype": "text/x-python",
   "name": "python",
   "nbconvert_exporter": "python",
   "pygments_lexer": "ipython3",
   "version": "3.11.3"
  },
  "orig_nbformat": 4
 },
 "nbformat": 4,
 "nbformat_minor": 2
}
